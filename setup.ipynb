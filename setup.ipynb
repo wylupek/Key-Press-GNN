{
 "cells": [
  {
   "cell_type": "markdown",
   "source": [
    "## CUDA"
   ],
   "metadata": {
    "collapsed": false
   },
   "id": "61aeb8bdcfc7e0df"
  },
  {
   "cell_type": "code",
   "execution_count": 79,
   "id": "initial_id",
   "metadata": {
    "collapsed": true,
    "ExecuteTime": {
     "end_time": "2024-09-14T12:00:47.333959Z",
     "start_time": "2024-09-14T12:00:47.304604Z"
    }
   },
   "outputs": [
    {
     "name": "stdout",
     "output_type": "stream",
     "text": [
      "C:\\Users\\filip\\Desktop\\venvs\\gnnenv\\Scripts\\python.exe\n",
      "Python 3.12.6\n"
     ]
    }
   ],
   "source": [
    "import sys\n",
    "print(sys.executable)\n",
    "!{sys.executable} --version"
   ]
  },
  {
   "cell_type": "code",
   "outputs": [
    {
     "name": "stdout",
     "output_type": "stream",
     "text": [
      "nvcc: NVIDIA (R) Cuda compiler driver\n",
      "Copyright (c) 2005-2024 NVIDIA Corporation\n",
      "Built on Tue_Feb_27_16:28:36_Pacific_Standard_Time_2024\n",
      "Cuda compilation tools, release 12.4, V12.4.99\n",
      "Build cuda_12.4.r12.4/compiler.33961263_0\n",
      "Nvidia drivers: 560.94\n"
     ]
    }
   ],
   "source": [
    "!nvcc --version\n",
    "print(\"Nvidia drivers: \", end=\"\")\n",
    "!nvidia-smi --query-gpu=driver_version --format=csv,noheader"
   ],
   "metadata": {
    "collapsed": false,
    "ExecuteTime": {
     "end_time": "2024-09-14T12:00:48.682759Z",
     "start_time": "2024-09-14T12:00:48.596623Z"
    }
   },
   "id": "68cb505718dd3b69",
   "execution_count": 80
  },
  {
   "cell_type": "markdown",
   "source": [
    "## Install PyTorch"
   ],
   "metadata": {
    "collapsed": false
   },
   "id": "65c19d1ca77087ae"
  },
  {
   "cell_type": "code",
   "outputs": [],
   "source": [
    "# https://pytorch.org/get-started/locally/\n",
    "!{sys.executable} -m pip install torch torchvision torchaudio --index-url https://download.pytorch.org/whl/cu124"
   ],
   "metadata": {
    "collapsed": false
   },
   "id": "4538c40d501885f4",
   "execution_count": null
  },
  {
   "cell_type": "code",
   "outputs": [
    {
     "name": "stdout",
     "output_type": "stream",
     "text": [
      "torch:  2.4.1+cu124\n",
      "torchaudio:  0.19.1+cu124\n",
      "torchvision:  2.4.1+cu124\n"
     ]
    }
   ],
   "source": [
    "import torch, torchvision, torchaudio\n",
    "\n",
    "print(\"torch: \", torch.__version__)\n",
    "print(\"torchaudio: \", torchvision.__version__)\n",
    "print(\"torchvision: \", torchaudio.__version__)"
   ],
   "metadata": {
    "collapsed": false,
    "ExecuteTime": {
     "end_time": "2024-09-14T12:00:55.321861Z",
     "start_time": "2024-09-14T12:00:55.318803Z"
    }
   },
   "id": "807830327e2a66c",
   "execution_count": 81
  },
  {
   "cell_type": "code",
   "outputs": [
    {
     "name": "stdout",
     "output_type": "stream",
     "text": [
      "cuda\n"
     ]
    }
   ],
   "source": [
    "print(torch.device('cuda' if torch.cuda.is_available() else 'cpu'))"
   ],
   "metadata": {
    "collapsed": false,
    "ExecuteTime": {
     "end_time": "2024-09-14T12:00:57.412077Z",
     "start_time": "2024-09-14T12:00:57.408629Z"
    }
   },
   "id": "b75710233554f89a",
   "execution_count": 82
  },
  {
   "cell_type": "markdown",
   "source": [
    "## Install PyTorch Geometric"
   ],
   "metadata": {
    "collapsed": false
   },
   "id": "a0a52be6457b88f0"
  },
  {
   "cell_type": "code",
   "outputs": [],
   "source": [
    "# https://pytorch-geometric.readthedocs.io/en/latest/install/installation.html\n",
    "!{sys.executable} -m pip install torch_geometric\n",
    "!{sys.executable} -m pip install pyg_lib torch_scatter torch_sparse torch_cluster torch_spline_conv -f https://data.pyg.org/whl/torch-2.4.0+cu124.html"
   ],
   "metadata": {
    "collapsed": false
   },
   "id": "7c4457f0a056422",
   "execution_count": null
  },
  {
   "cell_type": "code",
   "outputs": [
    {
     "name": "stdout",
     "output_type": "stream",
     "text": [
      "torch_geometric:  2.6.0\n",
      "torch_scatter version: 2.1.2+pt24cu124\n",
      "torch_sparse version: 0.6.18+pt24cu124\n",
      "torch_cluster version: 1.6.3+pt24cu124\n",
      "torch_spline_conv version: 1.2.2+pt24cu124\n"
     ]
    }
   ],
   "source": [
    "import torch_geometric\n",
    "import torch_scatter\n",
    "import torch_sparse\n",
    "import torch_cluster\n",
    "import torch_spline_conv\n",
    "\n",
    "print(\"torch_geometric: \", torch_geometric.__version__)\n",
    "print(\"torch_scatter version:\", torch_scatter.__version__)\n",
    "print(\"torch_sparse version:\", torch_sparse.__version__)\n",
    "print(\"torch_cluster version:\", torch_cluster.__version__)\n",
    "print(\"torch_spline_conv version:\", torch_spline_conv.__version__)"
   ],
   "metadata": {
    "collapsed": false,
    "ExecuteTime": {
     "end_time": "2024-09-14T12:01:10.128505Z",
     "start_time": "2024-09-14T12:01:10.124415Z"
    }
   },
   "id": "d405876d28bc08e2",
   "execution_count": 84
  },
  {
   "cell_type": "markdown",
   "source": [
    "## Test installation"
   ],
   "metadata": {
    "collapsed": false
   },
   "id": "f4b3a411f7e49b1e"
  },
  {
   "cell_type": "code",
   "outputs": [
    {
     "name": "stdout",
     "output_type": "stream",
     "text": [
      "Data device: cuda:0\n",
      "Model device: cuda:0\n",
      "Model output: tensor([[ 6.6890, -0.7401],\n",
      "        [ 6.6890, -0.7401],\n",
      "        [ 8.3752, -0.9337]], device='cuda:0', grad_fn=<AddBackward0>)\n"
     ]
    }
   ],
   "source": [
    "from torch_geometric.data import Data\n",
    "import torch_geometric.nn as pyg_nn\n",
    "\n",
    "# Create a simple graph data example\n",
    "edge_index = torch.tensor([[0, 1, 1], [1, 0, 2]], dtype=torch.long)\n",
    "x = torch.tensor([[1, 2], [2, 3], [3, 4]], dtype=torch.float)\n",
    "data = Data(x=x, edge_index=edge_index)\n",
    "\n",
    "# Move data to the specified device\n",
    "device = torch.device('cuda' if torch.cuda.is_available() else 'cpu')\n",
    "data = data.to(device)\n",
    "print(\"Data device:\", data.x.device)\n",
    "\n",
    "# Define a simple GCN model\n",
    "class SimpleGNN(torch.nn.Module):\n",
    "    def __init__(self):\n",
    "        super(SimpleGNN, self).__init__()\n",
    "        self.conv1 = pyg_nn.GCNConv(2, 2)\n",
    "        self.conv2 = pyg_nn.GCNConv(2, 2)\n",
    "\n",
    "    def forward(self, data):\n",
    "        x, edge_index = data.x, data.edge_index\n",
    "        x = self.conv1(x, edge_index)\n",
    "        x = self.conv2(x, edge_index)\n",
    "        return x\n",
    "\n",
    "# Initialize and move the model to the device\n",
    "model = SimpleGNN().to(device)\n",
    "print(\"Model device:\", next(model.parameters()).device)\n",
    "\n",
    "# Perform a forward pass\n",
    "output = model(data)\n",
    "print(\"Model output:\", output)"
   ],
   "metadata": {
    "collapsed": false,
    "ExecuteTime": {
     "end_time": "2024-09-14T12:04:02.935850Z",
     "start_time": "2024-09-14T12:04:02.923338Z"
    }
   },
   "id": "77da740a47cd8ea0",
   "execution_count": 87
  }
 ],
 "metadata": {
  "kernelspec": {
   "name": "gnnenv",
   "language": "python",
   "display_name": "Python3.12 (gnnenv)"
  },
  "language_info": {
   "codemirror_mode": {
    "name": "ipython",
    "version": 2
   },
   "file_extension": ".py",
   "mimetype": "text/x-python",
   "name": "python",
   "nbconvert_exporter": "python",
   "pygments_lexer": "ipython2",
   "version": "2.7.6"
  }
 },
 "nbformat": 4,
 "nbformat_minor": 5
}
